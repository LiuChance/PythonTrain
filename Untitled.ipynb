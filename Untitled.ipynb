{
 "cells": [
  {
   "cell_type": "code",
   "execution_count": 2,
   "metadata": {},
   "outputs": [],
   "source": [
    "import numpy as np\n",
    "import pandas as pd"
   ]
  },
  {
   "cell_type": "code",
   "execution_count": 10,
   "metadata": {},
   "outputs": [
    {
     "name": "stdout",
     "output_type": "stream",
     "text": [
      "[0.85290754 0.56405958 0.77630139 0.24924614 0.76483538]\n",
      "a    0.852908\n",
      "b    0.564060\n",
      "c    0.776301\n",
      "d    0.249246\n",
      "e    0.764835\n",
      "dtype: float64\n",
      "<class 'pandas.core.series.Series'>\n",
      "----------\n",
      "['a', 'b', 'c', 'd', 'e']\n",
      "[0.85290754 0.56405958 0.77630139 0.24924614 0.76483538] <class 'numpy.ndarray'>\n"
     ]
    }
   ],
   "source": [
    "ar = np.random.rand(5)\n",
    "s = pd.Series(ar,index=list('abcde'))\n",
    "print(ar)\n",
    "print(s)\n",
    "print(type(s))\n",
    "print('----------')\n",
    "print(list(s.index))\n",
    "print(s.values,type(s.values))\n",
    "\n",
    "\n",
    "# 核心：series相比于ndarray，是一个自带索引index的数组 → 一维数组 + 对应索引\n",
    "# 所以当只看series的值的时候，就是一个ndarray\n",
    "# series和ndarray较相似，索引切片功能差别不大\n",
    "# series和dict相比，series更像一个有顺序的字典（dict本身不存在顺序），其索引原理与字典相似（一个用key，一个用index）"
   ]
  },
  {
   "cell_type": "code",
   "execution_count": 14,
   "metadata": {},
   "outputs": [
    {
     "name": "stdout",
     "output_type": "stream",
     "text": [
      "a     1\n",
      "b     2\n",
      "c     3\n",
      "4     3\n",
      "5    10\n",
      "dtype: int64\n"
     ]
    }
   ],
   "source": [
    "# Series 创建方法一：由字典创建，字典的key就是index，values就是values\n",
    "\n",
    "dic = {'a':1,'b':2,'c':3,4:3,5:10}\n",
    "s = pd.Series(dic)\n",
    "print(s)"
   ]
  },
  {
   "cell_type": "code",
   "execution_count": 20,
   "metadata": {},
   "outputs": [
    {
     "name": "stdout",
     "output_type": "stream",
     "text": [
      "a    55.9746\n",
      "b    11.5211\n",
      "c    77.7448\n",
      "d    26.9495\n",
      "e    92.7806\n",
      "f    16.2778\n",
      "g    31.5395\n",
      "h    73.2519\n",
      "i    34.8678\n",
      "j    56.5364\n",
      "dtype: object\n"
     ]
    }
   ],
   "source": [
    "# 通过一维数组创建\n",
    "\n",
    "arr = np.random.rand(10)*100\n",
    "s = pd.Series(arr,index=list('abcdefghij'),dtype=np.object)\n",
    "print(s)\n"
   ]
  },
  {
   "cell_type": "code",
   "execution_count": 22,
   "metadata": {},
   "outputs": [
    {
     "name": "stdout",
     "output_type": "stream",
     "text": [
      "0    100\n",
      "1    100\n",
      "2    100\n",
      "3    100\n",
      "4    100\n",
      "5    100\n",
      "6    100\n",
      "7    100\n",
      "8    100\n",
      "9    100\n",
      "dtype: int64\n"
     ]
    }
   ],
   "source": [
    "# 通过标量创建\n",
    "\n",
    "s = pd.Series(100, index=range(10))\n",
    "print(s)"
   ]
  },
  {
   "cell_type": "code",
   "execution_count": 25,
   "metadata": {},
   "outputs": [
    {
     "name": "stdout",
     "output_type": "stream",
     "text": [
      "0    0.817513\n",
      "1    0.009781\n",
      "2    0.258465\n",
      "3    0.039478\n",
      "4    0.612099\n",
      "5    0.847766\n",
      "6    0.613646\n",
      "7    0.830729\n",
      "8    0.482965\n",
      "9    0.220270\n",
      "dtype: float64\n",
      "0.8477663837567451 <class 'numpy.float64'> float64\n"
     ]
    }
   ],
   "source": [
    "# 下标索引\n",
    "\n",
    "s = pd.Series(np.random.rand(10))\n",
    "print(s)\n",
    "print(s[5],type(s[6]),s[7].dtype)"
   ]
  },
  {
   "cell_type": "code",
   "execution_count": 27,
   "metadata": {},
   "outputs": [
    {
     "name": "stdout",
     "output_type": "stream",
     "text": [
      "a    0.393617\n",
      "b    0.656250\n",
      "c    0.443363\n",
      "d    0.346460\n",
      "e    0.557618\n",
      "dtype: float64\n",
      "0.3936169712497798 <class 'numpy.float64'> float64\n",
      "a    0.393617\n",
      "b    0.656250\n",
      "e    0.557618\n",
      "dtype: float64 <class 'pandas.core.series.Series'>\n"
     ]
    }
   ],
   "source": [
    "#标签索引\n",
    "s = pd.Series(np.random.rand(5), index = ['a','b','c','d','e'])\n",
    "print(s)\n",
    "print(s['a'],type(s['a']),s['a'].dtype)\n",
    "# 方法类似下标索引，用[]表示，内写上index，注意index是字符串\n",
    "\n",
    "sci = s[['a','b','e']]\n",
    "print(sci,type(sci))\n",
    "# 如果需要选择多个标签的值，用[[]]来表示（相当于[]中包含一个列表）\n",
    "# 多标签索引结果是新的数组"
   ]
  },
  {
   "cell_type": "code",
   "execution_count": 32,
   "metadata": {},
   "outputs": [
    {
     "name": "stdout",
     "output_type": "stream",
     "text": [
      "1    0.302837\n",
      "2    0.280746\n",
      "dtype: float64 0.5123153122585269\n",
      "a    0.973374\n",
      "b    0.003428\n",
      "c    0.684209\n",
      "dtype: float64 0.6842089685919718\n",
      "a    0.973374\n",
      "b    0.003428\n",
      "c    0.684209\n",
      "dtype: float64 0.8527858079381493\n",
      "-----\n",
      "a    0.973374\n",
      "b    0.003428\n",
      "c    0.684209\n",
      "d    0.852786\n",
      "dtype: float64\n",
      "a    0.973374\n",
      "c    0.684209\n",
      "e    0.701872\n",
      "dtype: float64\n"
     ]
    }
   ],
   "source": [
    "#切片\n",
    "s1 = pd.Series(np.random.rand(5))\n",
    "s2 = pd.Series(np.random.rand(5), index = ['a','b','c','d','e'])\n",
    "print(s1[1:3],s1[4])\n",
    "print(s2['a':'c'],s2['c'])\n",
    "print(s2[0:3],s2[3])\n",
    "print('-----')\n",
    "# 注意：用index做切片是末端包含\n",
    "\n",
    "print(s2[:-1])\n",
    "print(s2[::2])\n",
    "# 下标索引做切片，和list写法一样"
   ]
  },
  {
   "cell_type": "code",
   "execution_count": 34,
   "metadata": {},
   "outputs": [
    {
     "name": "stdout",
     "output_type": "stream",
     "text": [
      "0    98.505582\n",
      "1    26.269832\n",
      "2    11.740007\n",
      "4          NaN\n",
      "dtype: float64\n",
      "0     True\n",
      "1    False\n",
      "2    False\n",
      "4    False\n",
      "dtype: bool <class 'pandas.core.series.Series'> bool\n",
      "0    False\n",
      "1    False\n",
      "2    False\n",
      "4     True\n",
      "dtype: bool <class 'pandas.core.series.Series'> bool\n",
      "0     True\n",
      "1     True\n",
      "2     True\n",
      "4    False\n",
      "dtype: bool <class 'pandas.core.series.Series'> bool\n"
     ]
    }
   ],
   "source": [
    "#布尔型索引\n",
    "\n",
    "s = pd.Series(np.random.rand(3)*100)\n",
    "s[4] = np.nan #添加一个空值\n",
    "print(s)\n",
    "\n",
    "bs1 = s > 50\n",
    "bs2 = s.isnull()\n",
    "bs3 = s.notnull()\n",
    "print(bs1,type(bs1),bs1.dtype)\n",
    "print(bs2, type(bs2), bs2.dtype)\n",
    "print(bs3, type(bs3), bs3.dtype)"
   ]
  },
  {
   "cell_type": "code",
   "execution_count": null,
   "metadata": {},
   "outputs": [],
   "source": []
  }
 ],
 "metadata": {
  "kernelspec": {
   "display_name": "Python 3",
   "language": "python",
   "name": "python3"
  },
  "language_info": {
   "codemirror_mode": {
    "name": "ipython",
    "version": 3
   },
   "file_extension": ".py",
   "mimetype": "text/x-python",
   "name": "python",
   "nbconvert_exporter": "python",
   "pygments_lexer": "ipython3",
   "version": "3.7.3"
  }
 },
 "nbformat": 4,
 "nbformat_minor": 2
}
